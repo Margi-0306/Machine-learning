{
 "cells": [
  {
   "cell_type": "code",
   "execution_count": 3,
   "id": "046ed9b1",
   "metadata": {},
   "outputs": [],
   "source": [
    "#import important library\n",
    "import pandas as pd\n",
    "import numpy as np\n",
    "from scipy import stats \n",
    "import math"
   ]
  },
  {
   "cell_type": "markdown",
   "id": "8b532ac2",
   "metadata": {},
   "source": [
    "# Super Market example"
   ]
  },
  {
   "cell_type": "code",
   "execution_count": null,
   "id": "f5aa090a",
   "metadata": {},
   "outputs": [],
   "source": [
    "Example: Supermarket Loyalty Program\n",
    "    \n",
    "A supermarket plans to launch a loyalty program if it results in an average spending per shopper of more than $120 per week.\n",
    "\n",
    "A random sample of 80 shoppers enrolled in the pilot program spent an average of $130 in a week with a standard deviation of $40\n",
    "Should the loyalty program be launched"
   ]
  },
  {
   "cell_type": "code",
   "execution_count": 10,
   "id": "fb2d72b3",
   "metadata": {},
   "outputs": [],
   "source": [
    "#Given Data \n",
    "Sample_mean = 130\n",
    "test_mean = 120\n",
    "n = 80\n",
    "standard_deviation  = 40\n",
    "\n",
    "# Calculate the Test Statistic\n",
    "\n",
    "'''From here we can understand that we have to use one side t tail test.\n",
    "\n",
    "#State the Hypotheses statement:\n",
    "H0: average spending per shopper is equal to $120 per week \n",
    "Ha: average spending per shopper is more than $120 per week'''\n",
    "\n",
    "t_value = (130-120)/ (40/math.sqrt(80)"
   ]
  },
  {
   "cell_type": "code",
   "execution_count": 14,
   "id": "cdac39c2",
   "metadata": {},
   "outputs": [
    {
     "data": {
      "text/plain": [
       "2.23606797749979"
      ]
     },
     "execution_count": 14,
     "metadata": {},
     "output_type": "execute_result"
    }
   ],
   "source": [
    "t_value"
   ]
  },
  {
   "cell_type": "code",
   "execution_count": 15,
   "id": "31cb00df",
   "metadata": {},
   "outputs": [
    {
     "data": {
      "text/plain": [
       "0.9857070911974259"
      ]
     },
     "execution_count": 15,
     "metadata": {},
     "output_type": "execute_result"
    }
   ],
   "source": [
    "stats.t.cdf(2.23,df=79)"
   ]
  },
  {
   "cell_type": "code",
   "execution_count": 17,
   "id": "794befbc",
   "metadata": {},
   "outputs": [
    {
     "ename": "SyntaxError",
     "evalue": "invalid syntax (9982579.py, line 1)",
     "output_type": "error",
     "traceback": [
      "\u001b[1;36m  Cell \u001b[1;32mIn[17], line 1\u001b[1;36m\u001b[0m\n\u001b[1;33m    Here probability value is greater than alpha value so that null hypothesis will accept.\u001b[0m\n\u001b[1;37m         ^\u001b[0m\n\u001b[1;31mSyntaxError\u001b[0m\u001b[1;31m:\u001b[0m invalid syntax\n"
     ]
    }
   ],
   "source": [
    "Here probability value is greater than alpha value so that null hypothesis will accept."
   ]
  },
  {
   "cell_type": "markdown",
   "id": "d8e1dee3",
   "metadata": {},
   "source": [
    "# One tail test"
   ]
  },
  {
   "cell_type": "code",
   "execution_count": 16,
   "id": "df92837c",
   "metadata": {},
   "outputs": [],
   "source": [
    "data=pd.Series([0.593, 0.142, 0.329, 0.691, 0.231, 0.793, 0.519, 0.392, 0.418])"
   ]
  },
  {
   "cell_type": "code",
   "execution_count": 20,
   "id": "0d099e8e",
   "metadata": {},
   "outputs": [],
   "source": [
    "#This gives two tail test p value so divide by 2 to get final p-value\n",
    "p=stats.ttest_1samp(data,0.3)[1]\n",
    "p_value= p/2"
   ]
  },
  {
   "cell_type": "code",
   "execution_count": 21,
   "id": "be8fbbfa",
   "metadata": {},
   "outputs": [
    {
     "data": {
      "text/plain": [
       "0.029265164842448826"
      ]
     },
     "execution_count": 21,
     "metadata": {},
     "output_type": "execute_result"
    }
   ],
   "source": [
    "p_value"
   ]
  },
  {
   "cell_type": "markdown",
   "id": "6d6bfaa8",
   "metadata": {},
   "source": [
    "# Two Tail test"
   ]
  },
  {
   "cell_type": "code",
   "execution_count": 22,
   "id": "51438e11",
   "metadata": {},
   "outputs": [],
   "source": [
    "Control=pd.Series([91, 87, 99, 77, 88, 91])\n",
    "Treat =pd.Series([101, 110, 103, 93, 99, 104])  \n"
   ]
  },
  {
   "cell_type": "code",
   "execution_count": 24,
   "id": "fad44b5b",
   "metadata": {},
   "outputs": [
    {
     "data": {
      "text/plain": [
       "TtestResult(statistic=-3.4456126735364876, pvalue=0.006272124350809803, df=10.0)"
      ]
     },
     "execution_count": 24,
     "metadata": {},
     "output_type": "execute_result"
    }
   ],
   "source": [
    "stats.ttest_ind( Control,Treat)"
   ]
  },
  {
   "cell_type": "code",
   "execution_count": null,
   "id": "3d421f23",
   "metadata": {},
   "outputs": [],
   "source": []
  }
 ],
 "metadata": {
  "kernelspec": {
   "display_name": "Python 3 (ipykernel)",
   "language": "python",
   "name": "python3"
  },
  "language_info": {
   "codemirror_mode": {
    "name": "ipython",
    "version": 3
   },
   "file_extension": ".py",
   "mimetype": "text/x-python",
   "name": "python",
   "nbconvert_exporter": "python",
   "pygments_lexer": "ipython3",
   "version": "3.11.5"
  }
 },
 "nbformat": 4,
 "nbformat_minor": 5
}
